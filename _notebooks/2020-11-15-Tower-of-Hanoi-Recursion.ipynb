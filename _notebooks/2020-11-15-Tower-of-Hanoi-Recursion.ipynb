{
  "nbformat": 4,
  "nbformat_minor": 0,
  "metadata": {
    "kernelspec": {
      "display_name": "Python 3",
      "language": "python",
      "name": "python3"
    },
    "language_info": {
      "codemirror_mode": {
        "name": "ipython",
        "version": 3
      },
      "file_extension": ".py",
      "mimetype": "text/x-python",
      "name": "python",
      "nbconvert_exporter": "python",
      "pygments_lexer": "ipython3",
      "version": "3.8.5"
    },
    "colab": {
      "name": "2020-11-15-Tower-of-Hanoi-Recursion.ipynb",
      "provenance": []
    }
  },
  "cells": [
    {
      "cell_type": "markdown",
      "metadata": {
        "id": "nvbgTdrmOKib"
      },
      "source": [
        "# Recursive Tower of Hanoi program"
      ]
    },
    {
      "cell_type": "code",
      "metadata": {
        "id": "9fvA5sWeOKig"
      },
      "source": [
        "\n",
        "def TowerOfHanoi(n , source, destination, via): \n",
        "    if n>=1:\n",
        "        TowerOfHanoi(n-1, source, via, destination) \n",
        "        print(\"Move disk\",n,\"from source\",source,\"to destination\",destination )\n",
        "        TowerOfHanoi(n-1, via, destination, source) \n"
      ],
      "execution_count": null,
      "outputs": []
    },
    {
      "cell_type": "markdown",
      "metadata": {
        "id": "RSJsaGsWOKih"
      },
      "source": [
        "**Sequence of calls**\n",
        "\n",
        "3 A B C initial call\n",
        "\n",
        "2 A C B recursive call\n",
        "\n",
        "1 A B C - recursive call \n",
        "\n",
        "0 A C B - Nothing happens\n",
        "\n",
        "-- Prints Move disk 1 from source A to destination B\n",
        "\n",
        "The recursion has reached its first end\n",
        "\n",
        "Now, the 2 A C B resumes - Prints Move disk 2 from source A to destination C\n",
        "\n",
        "1 B C A - Prints Move disk 1 from source B to destination C (ignoring the 0 _ _ _ call)\n",
        "\n",
        "Now the 3 A B C resumes - Prints Move disk 3 from source A to destination B\n",
        "\n",
        "And this goes on as shown in output below..\n",
        "\n",
        "\n",
        "\n"
      ]
    },
    {
      "cell_type": "code",
      "metadata": {
        "id": "BOrqxVx7OKii",
        "outputId": "e76febb7-02b7-4d30-b31f-e76a43bb3727"
      },
      "source": [
        "TowerOfHanoi(3,\"A\",\"B\",\"C\")"
      ],
      "execution_count": null,
      "outputs": [
        {
          "output_type": "stream",
          "text": [
            "Move disk 1 from source A to destination B\n",
            "Move disk 2 from source A to destination C\n",
            "Move disk 1 from source B to destination C\n",
            "Move disk 3 from source A to destination B\n",
            "Move disk 1 from source C to destination A\n",
            "Move disk 2 from source C to destination B\n",
            "Move disk 1 from source A to destination B\n"
          ],
          "name": "stdout"
        }
      ]
    },
    {
      "cell_type": "markdown",
      "metadata": {
        "id": "JaR9HzNWOKij"
      },
      "source": [
        ""
      ]
    },
    {
      "cell_type": "code",
      "metadata": {
        "id": "Q0Fa-tIaOKik",
        "outputId": "b367d69c-0f8d-4911-8a15-7be3762820e3"
      },
      "source": [
        "TowerOfHanoi(3,\"A\",\"C\",\"B\")"
      ],
      "execution_count": null,
      "outputs": [
        {
          "output_type": "stream",
          "text": [
            "Move disk 1 from source A to destination C\n",
            "Move disk 2 from source A to destination B\n",
            "Move disk 1 from source C to destination B\n",
            "Move disk 3 from source A to destination C\n",
            "Move disk 1 from source B to destination A\n",
            "Move disk 2 from source B to destination C\n",
            "Move disk 1 from source A to destination C\n"
          ],
          "name": "stdout"
        }
      ]
    },
    {
      "cell_type": "code",
      "metadata": {
        "id": "84J_cq5POKil",
        "outputId": "5eedbb40-b94b-40a3-da74-f851b5a30293"
      },
      "source": [
        "TowerOfHanoi(5,\"A\",\"C\",\"B\")"
      ],
      "execution_count": null,
      "outputs": [
        {
          "output_type": "stream",
          "text": [
            "Move disk 1 from source A to destination C\n",
            "Move disk 2 from source A to destination B\n",
            "Move disk 1 from source C to destination B\n",
            "Move disk 3 from source A to destination C\n",
            "Move disk 1 from source B to destination A\n",
            "Move disk 2 from source B to destination C\n",
            "Move disk 1 from source A to destination C\n",
            "Move disk 4 from source A to destination B\n",
            "Move disk 1 from source C to destination B\n",
            "Move disk 2 from source C to destination A\n",
            "Move disk 1 from source B to destination A\n",
            "Move disk 3 from source C to destination B\n",
            "Move disk 1 from source A to destination C\n",
            "Move disk 2 from source A to destination B\n",
            "Move disk 1 from source C to destination B\n",
            "Move disk 5 from source A to destination C\n",
            "Move disk 1 from source B to destination A\n",
            "Move disk 2 from source B to destination C\n",
            "Move disk 1 from source A to destination C\n",
            "Move disk 3 from source B to destination A\n",
            "Move disk 1 from source C to destination B\n",
            "Move disk 2 from source C to destination A\n",
            "Move disk 1 from source B to destination A\n",
            "Move disk 4 from source B to destination C\n",
            "Move disk 1 from source A to destination C\n",
            "Move disk 2 from source A to destination B\n",
            "Move disk 1 from source C to destination B\n",
            "Move disk 3 from source A to destination C\n",
            "Move disk 1 from source B to destination A\n",
            "Move disk 2 from source B to destination C\n",
            "Move disk 1 from source A to destination C\n"
          ],
          "name": "stdout"
        }
      ]
    },
    {
      "cell_type": "code",
      "metadata": {
        "id": "soR3fkBeOKil"
      },
      "source": [
        ""
      ],
      "execution_count": null,
      "outputs": []
    }
  ]
}